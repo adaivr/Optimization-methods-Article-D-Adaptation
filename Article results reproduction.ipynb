{
 "cells": [
  {
   "cell_type": "markdown",
   "metadata": {},
   "source": [
    "# Abstract"
   ]
  },
  {
   "cell_type": "markdown",
   "metadata": {},
   "source": [
    "В 7 разделе статьи проведены следующие эксперименты."
   ]
  },
  {
   "cell_type": "markdown",
   "metadata": {},
   "source": [
    "## Logistic regression"
   ]
  },
  {
   "cell_type": "markdown",
   "metadata": {},
   "source": [
    "Method: ```Adam```\n",
    "\n",
    "Model: Logistic regression\n",
    "\n",
    "Datasets:\n",
    " - Sensorless\n",
    " - Aloi\n",
    " - DNA\n",
    " - Glass\n",
    " - Iris\n",
    " - Letter\n",
    " - Pendigits\n",
    " - smallNORB\n",
    " - USPS\n",
    " - Vehicle\n",
    " - Vowel\n",
    " - Vine\n",
    "\n",
    "Source: [LIBSVM](https://www.csie.ntu.edu.tw/~cjlin/libsvmtools/datasets/)"
   ]
  },
  {
   "cell_type": "markdown",
   "metadata": {},
   "source": [
    "Обучение длилось 100 эпох.\n",
    "\n",
    "На 60, 80 и 95 эпохах скорость обучения уменьшалась в 10 раз.\n",
    "\n",
    "Для Adam скорость обучения была подобрана линейным поиском.\n",
    "\n",
    "Во всех случаях ```D-Adapt Adam``` дает не худшую точность или лучшую точность до $5\\%$, чем ```Adam```."
   ]
  },
  {
   "cell_type": "markdown",
   "metadata": {},
   "source": [
    "## Image classification"
   ]
  },
  {
   "cell_type": "markdown",
   "metadata": {},
   "source": [
    "Method: ```SGD```\n",
    "\n",
    "Models (corresponding to datasets):\n",
    " - WRN-16-8\n",
    " - DenseNet\n",
    " - ResNet-50\n",
    "\n",
    "Datasets:\n",
    " - CIFAR10\n",
    " - CIFAR100\n",
    " - ImageNet 2012\n",
    "\n",
    "Sources:\n",
    " - [CIFAR](https://www.cs.toronto.edu/~kriz/cifar.html)\n",
    " - [ILSVRC](https://image-net.org/challenges/LSVRC/index.php)"
   ]
  },
  {
   "cell_type": "markdown",
   "metadata": {},
   "source": [
    "Во всех случаях ```D-Adapt SGD``` показал не худшую точность, чем ```SGD```."
   ]
  },
  {
   "cell_type": "markdown",
   "metadata": {},
   "source": [
    "## Natural language processing"
   ]
  },
  {
   "cell_type": "markdown",
   "metadata": {},
   "source": [
    "Method: ```Adam```\n",
    "\n",
    "Models (corresponding to datasets):\n",
    " - LSTM\n",
    " - RoBERTa\n",
    " - GPT Transformer\n",
    "\n",
    "Datasets:\n",
    " - IWSLT14\n",
    " - BookWiki\n",
    " - Bookwiki\n",
    "\n",
    "Sources: **NA**"
   ]
  },
  {
   "cell_type": "markdown",
   "metadata": {},
   "source": [
    "Во всех случаях ```D-Adapt Adam``` получил сопоставимый коэффициент неопределенности с ```Adam```."
   ]
  },
  {
   "cell_type": "markdown",
   "metadata": {},
   "source": [
    "## Further experiments"
   ]
  },
  {
   "cell_type": "markdown",
   "metadata": {},
   "source": [
    "Method: ```SGD``` for COCO and ```Adam``` for others\n",
    "\n",
    "Models (corresponding to datasets):\n",
    " - vit_tiny_patch16_224\n",
    " - Faster-RCNN with pretrained ResNeXt-101-32x8d\n",
    " - VarNet 2.0\n",
    " - DLRM\n",
    "\n",
    "Datasets:\n",
    " - ImageNet 2012\n",
    " - COCO 2017\n",
    " - fastMRI Knee\n",
    " - Criteo Kaggle\n",
    "\n",
    "Sources:\n",
    " - [ILSVRC](https://image-net.org/challenges/LSVRC/index.php)\n",
    " - [COCO](https://cocodataset.org/#download)\n",
    " - [fastMRI](https://fastmri.med.nyu.edu/)\n",
    " - [Criteo Kaggle](https://www.kaggle.com/datasets/mrkmakr/criteo-dataset)"
   ]
  },
  {
   "cell_type": "markdown",
   "metadata": {},
   "source": [
    "vit_tiny_patch16_224 обучилась с помощью ```D-Adapt Adam``` на ImageNet хуже, чем с помощью ```Adam```.\n",
    "\n",
    "В остальных случаях адаптированные методы показали сопоставимое качество обучения."
   ]
  },
  {
   "cell_type": "markdown",
   "metadata": {},
   "source": [
    "## Reproduction"
   ]
  },
  {
   "cell_type": "markdown",
   "metadata": {},
   "source": [
    "Проведем следующие эксперименты:\n",
    " - Logistic regression: повторим результаты на DNA, проведем обучение на mushrooms, добавим в сравнение ```Adagrad```\n",
    " - Image classification: приведенные в статье модели достаточно тяжелые, поэтому обучим более простую модель на CIFAR10\n",
    " - Natural language processing: повторим результаты на BookWiki, используя GPT Transformer\n",
    " - Further experiments: повторим результаты на Criteo Kaggle"
   ]
  },
  {
   "cell_type": "markdown",
   "metadata": {},
   "source": [
    "# 1 Logistic regression"
   ]
  },
  {
   "cell_type": "markdown",
   "metadata": {},
   "source": [
    "## 1.1 DNA"
   ]
  },
  {
   "cell_type": "markdown",
   "metadata": {},
   "source": [
    "## 1.2 mushrooms"
   ]
  },
  {
   "cell_type": "markdown",
   "metadata": {},
   "source": [
    "# 2 Image classification"
   ]
  },
  {
   "cell_type": "markdown",
   "metadata": {},
   "source": [
    "# 3 Natural language processing"
   ]
  },
  {
   "cell_type": "markdown",
   "metadata": {},
   "source": [
    "# 4 Recommendation system"
   ]
  }
 ],
 "metadata": {
  "kernelspec": {
   "display_name": ".venv",
   "language": "python",
   "name": "python3"
  },
  "language_info": {
   "codemirror_mode": {
    "name": "ipython",
    "version": 3
   },
   "file_extension": ".py",
   "mimetype": "text/x-python",
   "name": "python",
   "nbconvert_exporter": "python",
   "pygments_lexer": "ipython3",
   "version": "3.12.6"
  }
 },
 "nbformat": 4,
 "nbformat_minor": 2
}
